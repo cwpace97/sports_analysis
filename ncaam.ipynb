{
 "cells": [
  {
   "cell_type": "code",
   "execution_count": null,
   "metadata": {},
   "outputs": [],
   "source": [
    "import requests\n",
    "import pandas as pd\n",
    "import itertools\n",
    "import time\n",
    "import numpy as np\n",
    "\n",
    "import os\n",
    "from dotenv import load_dotenv"
   ]
  },
  {
   "cell_type": "code",
   "execution_count": null,
   "metadata": {},
   "outputs": [],
   "source": [
    "load_dotenv()\n",
    "BASE_URL = \"https://api3.natst.at\"\n",
    "API_KEY = os.getenv(\"NAT_API_KEY\")"
   ]
  },
  {
   "cell_type": "code",
   "execution_count": null,
   "metadata": {},
   "outputs": [],
   "source": [
    "def ncaab_list_all_dates_for_season(league, year):\n",
    "    url = f\"{BASE_URL}/{API_KEY}/games/{league}/{year}\"\n",
    "    print(url)\n",
    "\n",
    "    # initialize set\n",
    "    dates = set()\n",
    "    res = requests.get(url).json()\n",
    "    for key, value in res['games'].items():\n",
    "        dates.add(value['gameday'])\n",
    "    next_page_url = res['meta'].get('page-next', False)\n",
    "    \n",
    "    # loop through pages\n",
    "    while(next_page_url is not False):\n",
    "        print(next_page_url)\n",
    "        res = requests.get(next_page_url).json()\n",
    "        for key, value in res['games'].items():\n",
    "            dates.add(value['gameday'])\n",
    "        next_page_url = res['meta'].get('page-next', False)\n",
    "    \n",
    "    return dates\n",
    "\n",
    "def ncaab_get_pbp_by_date(league, date):\n",
    "    url = f\"{BASE_URL}/{API_KEY}/playbyplay/{league}/{date}\"\n",
    "    print(url)\n",
    "\n",
    "    # initialize df\n",
    "    df = pd.DataFrame()\n",
    "    res = requests.get(url).json()\n",
    "    for key, value in res['playbyplay'].items():\n",
    "        df_temp = pd.json_normalize(value)\n",
    "        df = pd.concat([df, df_temp])\n",
    "    next_page_url = res['meta'].get('page-next', False)\n",
    "\n",
    "    # loop through pages\n",
    "    while(next_page_url is not False):\n",
    "        print(next_page_url)\n",
    "        res = requests.get(next_page_url).json()\n",
    "        for key, value in res['playbyplay'].items():\n",
    "            df_temp = pd.json_normalize(value)\n",
    "            df = pd.concat([df, df_temp])\n",
    "        next_page_url = res['meta'].get('page-next', False)\n",
    "\n",
    "    return df\n",
    "\n",
    "def ncaab_get_list_of_game_codes_from_single_day_pbp(df):\n",
    "    return df['game.code'].unique().tolist()\n",
    "\n",
    "def ncaab_get_final_score(df, game_code):\n",
    "    last_row = df[df['game.code'] == game_code].tail(1)\n",
    "    home_team = last_row.iloc[0]['game.home']\n",
    "    away_team = last_row.iloc[0]['game.visitor']\n",
    "    winner = home_team if int(last_row.iloc[0]['game.score-home']) > int(last_row.iloc[0]['game.score-vis']) else away_team\n",
    "    return {\n",
    "        'gameTitle': last_row.iloc[0]['game.description'],\n",
    "        'date': last_row.iloc[0]['game.gameday'],\n",
    "        'home': home_team,\n",
    "        'away': away_team,\n",
    "        'winner': winner,\n",
    "        'winnerScore': max(last_row.iloc[0]['game.score-home'], last_row.iloc[0]['game.score-vis']),\n",
    "        'loseScore': min(last_row.iloc[0]['game.score-home'], last_row.iloc[0]['game.score-vis'])\n",
    "    }\n",
    "\n",
    "def ncaab_clean_pbp_df(df: pd.DataFrame):\n",
    "    mapping = {\n",
    "        'Atlanta': 'Atlanta Hawks',\n",
    "        'Boston': 'Boston Celtics',\n",
    "        'Brooklyn': 'Brooklyn Nets',\n",
    "        'Charlotte': 'Charlotte Hornets',\n",
    "        'Chicago': 'Chicago Bulls',\n",
    "        'Cleveland': 'Cleveland Cavaliers',\n",
    "        'Dallas': 'Dallas Mavericks',\n",
    "        'Denver': 'Denver Nuggets',\n",
    "        'Detroit': 'Detroit Pistons',\n",
    "        'Golden State': 'Golden State Warriors',\n",
    "        'Houston': 'Houston Rockets',\n",
    "        'Indiana': 'Indiana Pacers',\n",
    "        'L.A. Clippers': 'Los Angeles Clippers',\n",
    "        'L.A. Lakers': 'Los Angeles Lakers',\n",
    "        'Memphis': 'Memphis Grizzlies',\n",
    "        'Miami': 'Miami Heat',\n",
    "        'Milwaukee': 'Milwaukee Bucks',\n",
    "        'Minnesota': 'Minnesota Timberwolves',\n",
    "        'New Orleans': 'New Orleans Pelicans',\n",
    "        'New York': 'New York Knicks',\n",
    "        'Oklahoma City': 'Oklahoma City Thunder',\n",
    "        'Orlando': 'Orlando Magic',\n",
    "        'Philadelphia': 'Philadelphia 76ers',\n",
    "        'Phoenix': 'Phoenix Suns',\n",
    "        'Portland': 'Portland Trail Blazers',\n",
    "        'Sacramento': 'Sacramento Kings',\n",
    "        'San Antonio': 'San Antonio Spurs',\n",
    "        'Toronto': 'Toronto Raptors',\n",
    "        'Utah': 'Utah Jazz',\n",
    "        'Washington': 'Washington Wizards'\n",
    "    }\n",
    "    df['game.visitor'] = df['game.visitor'].map(mapping).fillna(df['game.visitor'])\n",
    "    df['game.home'] = df['game.home'].map(mapping).fillna(df['game.home'])\n",
    "\n",
    "def ncaab_get_deficit_time(df, game_code):\n",
    "    box_score = ncaab_get_final_score(df, game_code)\n",
    "    # print(box_score)\n",
    "    winning_team = box_score['winner']\n",
    "\n",
    "    df_game = df[df['game.code'] == game_code]\n",
    "    df_winner = df_game[df_game['team.team'] == winning_team]\n",
    "    # print(df_winner)\n",
    "    \n",
    "    deficit = min(pd.to_numeric(df_winner['thediff'], errors='coerce', downcast='integer'))\n",
    "    df_deficit = df_winner[df_winner['thediff'] == deficit].tail(1)\n",
    "    if len(df_deficit)<1:\n",
    "         df_deficit = df_winner[df_winner['thediff'] == \"+\"+str(deficit)].tail(1)\n",
    "    if len(df_deficit)<1:\n",
    "        df_deficit = df_winner[df_winner['thediff'] == str(deficit)].tail(1)\n",
    "    return {\n",
    "        'game title': box_score['gameTitle'],\n",
    "        'date': box_score['date'],\n",
    "        'winning_team': winning_team,\n",
    "        'deficit': deficit,\n",
    "        'period': df_deficit.iloc[0]['game.period'],\n",
    "        'clock': df_deficit.iloc[0]['game.time'],\n",
    "        'seconds_remaining': ncaab_get_seconds_remaining(df_deficit.iloc[0]['game.period'], df_deficit.iloc[0]['game.time'])\n",
    "    }\n",
    "\n",
    "def ncaab_get_seconds_remaining(period, clock: str):\n",
    "    try: \n",
    "        minutes, seconds, ms = clock.split(':')\n",
    "    except Exception:\n",
    "        minutes, seconds = clock.split(\":\")\n",
    "        ms = 0\n",
    "    if int(period) < 2:\n",
    "        return (2-int(period))*20*60 + int(minutes)*60 + float(seconds) + float(ms)/100\n",
    "    else:\n",
    "        return int(minutes)*60 + float(seconds) + float(ms)/100"
   ]
  },
  {
   "cell_type": "code",
   "execution_count": null,
   "metadata": {},
   "outputs": [],
   "source": [
    "active_game_dates = ncaab_list_all_dates_for_season(\"MBB\", 2024)\n",
    "active_game_dates"
   ]
  },
  {
   "cell_type": "code",
   "execution_count": null,
   "metadata": {},
   "outputs": [],
   "source": [
    "len(active_game_dates)"
   ]
  },
  {
   "cell_type": "code",
   "execution_count": null,
   "metadata": {},
   "outputs": [],
   "source": [
    "# continue querying\n",
    "already_queried_dates = set(df['game.gameday'])\n",
    "remaining = active_game_dates - already_queried_dates\n",
    "len(remaining)"
   ]
  },
  {
   "cell_type": "code",
   "execution_count": null,
   "metadata": {},
   "outputs": [],
   "source": [
    "df = pd.DataFrame()\n",
    "df = pd.read_csv('outputs/full_filtered_ncaab_output.csv')\n",
    "\n",
    "# for date in remaining:\n",
    "#     print(f\"Querying for day: {date}...\")\n",
    "#     single_day_pbp_df = ncaab_get_pbp_by_date(\"MBB\", date)\n",
    "#     df = pd.concat([df, single_day_pbp_df])\n",
    "#     print(\"Successfully added day. Sleeping for 0s...\")\n",
    "# df.to_csv('outputs/full_ncaab_output.csv')"
   ]
  },
  {
   "cell_type": "code",
   "execution_count": null,
   "metadata": {},
   "outputs": [],
   "source": [
    "df = df[~df['tags'].str.contains('MISC', na=False)]\n",
    "df.to_csv('outputs/full_filtered_ncaab_output.csv')"
   ]
  },
  {
   "cell_type": "code",
   "execution_count": null,
   "metadata": {},
   "outputs": [],
   "source": [
    "sorted(df['game.home'].unique().tolist())"
   ]
  },
  {
   "cell_type": "code",
   "execution_count": null,
   "metadata": {},
   "outputs": [],
   "source": [
    "print(len(ncaab_get_list_of_game_codes_from_single_day_pbp(df)))\n",
    "df.columns"
   ]
  },
  {
   "cell_type": "code",
   "execution_count": null,
   "metadata": {},
   "outputs": [],
   "source": [
    "comebacks = []\n",
    "for game in ncaab_get_list_of_game_codes_from_single_day_pbp(df):\n",
    "    if game == 1258358:\n",
    "        continue\n",
    "    print(game)\n",
    "    output = ncaab_get_deficit_time(df, game)\n",
    "    comebacks.append(output)"
   ]
  },
  {
   "cell_type": "code",
   "execution_count": null,
   "metadata": {},
   "outputs": [],
   "source": [
    "comebacks_df = pd.DataFrame(comebacks)\n",
    "exclude = [\n",
    "    \"Canisius Golden Griffins vs Wofford Terriers\", \n",
    "    \"Colorado Buffaloes vs Miami (Fla.) Hurricanes\"\n",
    "]\n",
    "comebacks_df = comebacks_df[~comebacks_df['game title'].isin(exclude)]\n",
    "comebacks_df['analytical_lead_minus_five_abs'] = comebacks_df['deficit'].apply(lambda x: min(x+5, 0))\n",
    "comebacks_df['analytical_time_required'] = (comebacks_df['analytical_lead_minus_five_abs'])**2\n",
    "comebacks_df['analytical_diff'] = comebacks_df['analytical_time_required'] - comebacks_df['seconds_remaining']\n",
    "comebacks_df"
   ]
  },
  {
   "cell_type": "code",
   "execution_count": null,
   "metadata": {},
   "outputs": [],
   "source": [
    "comebacks_df.to_csv('outputs/ncaab_comebacks_v1.csv')"
   ]
  },
  {
   "cell_type": "markdown",
   "metadata": {},
   "source": [
    "## Investigation"
   ]
  },
  {
   "cell_type": "code",
   "execution_count": null,
   "metadata": {},
   "outputs": [],
   "source": [
    "df_error = df[df['game.code'] == \"1258358\"]\n",
    "df_error['game.description']"
   ]
  }
 ],
 "metadata": {
  "kernelspec": {
   "display_name": "Python 3",
   "language": "python",
   "name": "python3"
  },
  "language_info": {
   "codemirror_mode": {
    "name": "ipython",
    "version": 3
   },
   "file_extension": ".py",
   "mimetype": "text/x-python",
   "name": "python",
   "nbconvert_exporter": "python",
   "pygments_lexer": "ipython3",
   "version": "3.12.9"
  }
 },
 "nbformat": 4,
 "nbformat_minor": 2
}
